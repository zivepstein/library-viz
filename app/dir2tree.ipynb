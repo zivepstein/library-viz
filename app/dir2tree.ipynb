{
 "cells": [
  {
   "cell_type": "code",
   "execution_count": 5,
   "metadata": {
    "collapsed": false
   },
   "outputs": [],
   "source": [
    "import os\n",
    "rootdir = '/Users/ziv/GDrive/papers'\n",
    "papers = []\n",
    "\n",
    "for subdir, dirs, files in os.walk(rootdir):\n",
    "    for file in files:\n",
    "    \tf = os.path.join(subdir, file)\n",
    "    \tif f.split('/')[-1][0] != \".\" and f.split('/')[5] != \"app\":\n",
    "    \t\tpapers.append(f)"
   ]
  },
  {
   "cell_type": "code",
   "execution_count": 6,
   "metadata": {
    "collapsed": false
   },
   "outputs": [
    {
     "data": {
      "text/plain": [
       "'/Users/ziv/GDrive/papers/applied-ML/color-sai.pdf'"
      ]
     },
     "execution_count": 6,
     "metadata": {},
     "output_type": "execute_result"
    }
   ],
   "source": [
    "papers[0]"
   ]
  },
  {
   "cell_type": "code",
   "execution_count": 7,
   "metadata": {
    "collapsed": true
   },
   "outputs": [],
   "source": [
    "tree = {\"name\" : \"papers\", \"children\" : []}"
   ]
  },
  {
   "cell_type": "code",
   "execution_count": 13,
   "metadata": {
    "collapsed": false
   },
   "outputs": [],
   "source": [
    "route = papers[0].split('/')[5:]"
   ]
  },
  {
   "cell_type": "code",
   "execution_count": 14,
   "metadata": {
    "collapsed": false
   },
   "outputs": [
    {
     "data": {
      "text/plain": [
       "['applied-ML', 'color-sai.pdf']"
      ]
     },
     "execution_count": 14,
     "metadata": {},
     "output_type": "execute_result"
    }
   ],
   "source": [
    "route"
   ]
  },
  {
   "cell_type": "code",
   "execution_count": 26,
   "metadata": {
    "collapsed": false
   },
   "outputs": [],
   "source": [
    "import os\n",
    "import json\n",
    "\n",
    "def path_to_dict(path):\n",
    "    name = os.path.basename(path)\n",
    "    d = {'name': name}\n",
    "    if os.path.isdir(path):\n",
    "        d['type'] = \"directory\"\n",
    "        d['children'] = [path_to_dict(os.path.join(path,x)) for x in os.listdir(path) if x[0] != '.' and name != 'app']\n",
    "    else:\n",
    "        d['type'] = \"file\"\n",
    "        d['size'] = 3812\n",
    "    return d\n",
    "\n",
    "data = json.dumps(path_to_dict('/Users/ziv/GDrive/papers'))"
   ]
  },
  {
   "cell_type": "code",
   "execution_count": 27,
   "metadata": {
    "collapsed": false
   },
   "outputs": [
    {
     "data": {
      "text/plain": [
       "'{\"type\": \"directory\", \"name\": \"papers\", \"children\": [{\"type\": \"directory\", \"name\": \"app\", \"children\": []}, {\"type\": \"directory\", \"name\": \"applied-ML\", \"children\": [{\"type\": \"file\", \"name\": \"color-sai.pdf\", \"size\": 3812}, {\"type\": \"file\", \"name\": \"color.pdf\", \"size\": 3812}, {\"type\": \"file\", \"name\": \"interpret.pdf\", \"size\": 3812}, {\"type\": \"file\", \"name\": \"machines-that-learn-and-think.pdf\", \"size\": 3812}]}, {\"type\": \"directory\", \"name\": \"css\", \"children\": [{\"type\": \"file\", \"name\": \"confidence.pdf\", \"size\": 3812}, {\"type\": \"file\", \"name\": \"Life in the network- the coming age of computational social science.pdf\", \"size\": 3812}, {\"type\": \"file\", \"name\": \"ma2017airbnb.pdf\", \"size\": 3812}]}, {\"type\": \"directory\", \"name\": \"machine learning\", \"children\": [{\"type\": \"file\", \"name\": \"2015_Mnih_et_al.pdf\", \"size\": 3812}, {\"type\": \"file\", \"name\": \"4824-imagenet-classification-with-deep-convolutional-neural-networks.pdf\", \"size\": 3812}, {\"type\": \"file\", \"name\": \"approximation-theory-survey.pdf\", \"size\": 3812}, {\"type\": \"file\", \"name\": \"Ghahramani-2015-Nature.pdf\", \"size\": 3812}, {\"type\": \"file\", \"name\": \"LSTM.pdf\", \"size\": 3812}, {\"type\": \"file\", \"name\": \"Perceptiontron_Rosenblatt1958.pdf\", \"size\": 3812}, {\"type\": \"file\", \"name\": \"Rosenblatt1958.pdf\", \"size\": 3812}, {\"type\": \"file\", \"name\": \"When Is Deep Better Than Shallow.pdf\", \"size\": 3812}]}, {\"type\": \"directory\", \"name\": \"media\", \"children\": [{\"type\": \"file\", \"name\": \"Manovich-LangNewMedia-excerpt.pdf\", \"size\": 3812}, {\"type\": \"file\", \"name\": \"MFJ60-complete.pdf\", \"size\": 3812}, {\"type\": \"file\", \"name\": \"STRUCTURE-.pdf\", \"size\": 3812}]}, {\"type\": \"directory\", \"name\": \"meta-science\", \"children\": [{\"type\": \"file\", \"name\": \"clausette-science.pdf\", \"size\": 3812}]}, {\"type\": \"directory\", \"name\": \"ml+ss\", \"children\": [{\"type\": \"file\", \"name\": \"Deep Learning for Predicting Human Strategic Behavior.pdf\", \"size\": 3812}, {\"type\": \"file\", \"name\": \"multi-agent-rl-in-ssd.pdf\", \"size\": 3812}, {\"type\": \"file\", \"name\": \"SSRN-id2548564-3.pdf\", \"size\": 3812}]}, {\"type\": \"directory\", \"name\": \"multiagent-ai\", \"children\": [{\"type\": \"directory\", \"name\": \"auto-vehicles\", \"children\": [{\"type\": \"file\", \"name\": \"Routledge15-Au.pdf\", \"size\": 3812}]}, {\"type\": \"file\", \"name\": \"stone2000multiagent.bib\", \"size\": 3812}, {\"type\": \"file\", \"name\": \"stone2000multiagent.pdf\", \"size\": 3812}]}, {\"type\": \"directory\", \"name\": \"networks\", \"children\": [{\"type\": \"file\", \"name\": \"4 degrees.pdf\", \"size\": 3812}, {\"type\": \"file\", \"name\": \"7-AuthoritativeSourcesinaHyperlinkedEnvironment.pdf\", \"size\": 3812}, {\"type\": \"file\", \"name\": \"[optional] The Role of Social Networks in Information Diffusion.pdf\", \"size\": 3812}, {\"type\": \"file\", \"name\": \"aral-contagious-excerise.pdf\", \"size\": 3812}, {\"type\": \"file\", \"name\": \"fb.pdf\", \"size\": 3812}, {\"type\": \"file\", \"name\": \"msr-tr-2010-137.pdf\", \"size\": 3812}, {\"type\": \"file\", \"name\": \"npcommunities.pdf\", \"size\": 3812}, {\"type\": \"file\", \"name\": \"poggio1990rbf2.pdf\", \"size\": 3812}, {\"type\": \"file\", \"name\": \"semantic-networks.pdf\", \"size\": 3812}, {\"type\": \"file\", \"name\": \"sinan-Distinguishing influence-based contagion from homophily-driven diffusion in dynamic networks.pdf\", \"size\": 3812}, {\"type\": \"file\", \"name\": \"SSRN-id2617663.pdf\", \"size\": 3812}, {\"type\": \"file\", \"name\": \"Structural diversity in social contagion.pdf\", \"size\": 3812}]}, {\"type\": \"directory\", \"name\": \"nlp\", \"children\": [{\"type\": \"file\", \"name\": \"Blei2012.pdf\", \"size\": 3812}]}, {\"type\": \"directory\", \"name\": \"philosophy\", \"children\": [{\"type\": \"file\", \"name\": \"vinodessay_published.pdf\", \"size\": 3812}]}, {\"type\": \"directory\", \"name\": \"psych\", \"children\": [{\"type\": \"file\", \"name\": \"2012 Rand Greene Nowak - Nature.pdf\", \"size\": 3812}, {\"type\": \"file\", \"name\": \"an-architecture-for-encoding-sentence-meaning.pdf\", \"size\": 3812}, {\"type\": \"file\", \"name\": \"evolution-of-trust-coop-macy.pdf\", \"size\": 3812}, {\"type\": \"file\", \"name\": \"journal.pone.0155656.PDF\", \"size\": 3812}, {\"type\": \"file\", \"name\": \"PNAS-2012-Ugander-5962-6.pdf\", \"size\": 3812}, {\"type\": \"file\", \"name\": \"visual-clutter.pdf\", \"size\": 3812}]}, {\"type\": \"directory\", \"name\": \"scalable\", \"children\": [{\"type\": \"file\", \"name\": \"citimation.pdf\", \"size\": 3812}, {\"type\": \"file\", \"name\": \"cooperating-with-machines.pdf\", \"size\": 3812}, {\"type\": \"file\", \"name\": \"IcewsReciprocity.pdf\", \"size\": 3812}, {\"type\": \"file\", \"name\": \"millions-of-emoji-occurrences.pdf\", \"size\": 3812}, {\"type\": \"file\", \"name\": \"rahwanUAV.pdf\", \"size\": 3812}, {\"type\": \"file\", \"name\": \"skillscape3.pdf\", \"size\": 3812}]}, {\"type\": \"directory\", \"name\": \"stats\", \"children\": [{\"type\": \"file\", \"name\": \"[1] Bias and High-Dimensional Adjustmet in Observational Studies of Social Contagion.pdf\", \"size\": 3812}, {\"type\": \"file\", \"name\": \"[2] Why Propensity Scores Should Not Be Used for Matching.pdf\", \"size\": 3812}]}]}'"
      ]
     },
     "execution_count": 27,
     "metadata": {},
     "output_type": "execute_result"
    }
   ],
   "source": [
    "data"
   ]
  },
  {
   "cell_type": "code",
   "execution_count": null,
   "metadata": {
    "collapsed": true
   },
   "outputs": [],
   "source": []
  }
 ],
 "metadata": {
  "kernelspec": {
   "display_name": "Python 2",
   "language": "python",
   "name": "python2"
  },
  "language_info": {
   "codemirror_mode": {
    "name": "ipython",
    "version": 2
   },
   "file_extension": ".py",
   "mimetype": "text/x-python",
   "name": "python",
   "nbconvert_exporter": "python",
   "pygments_lexer": "ipython2",
   "version": "2.7.10"
  }
 },
 "nbformat": 4,
 "nbformat_minor": 0
}
