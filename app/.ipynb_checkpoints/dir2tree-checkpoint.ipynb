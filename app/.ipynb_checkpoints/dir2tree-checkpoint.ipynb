{
 "cells": [
  {
   "cell_type": "code",
   "execution_count": 5,
   "metadata": {
    "collapsed": false
   },
   "outputs": [],
   "source": [
    "import os\n",
    "rootdir = '/Users/ziv/GDrive/papers'\n",
    "papers = []\n",
    "\n",
    "for subdir, dirs, files in os.walk(rootdir):\n",
    "    for file in files:\n",
    "    \tf = os.path.join(subdir, file)\n",
    "    \tif f.split('/')[-1][0] != \".\" and f.split('/')[5] != \"app\":\n",
    "    \t\tpapers.append(f)"
   ]
  },
  {
   "cell_type": "code",
   "execution_count": 6,
   "metadata": {
    "collapsed": false
   },
   "outputs": [
    {
     "data": {
      "text/plain": [
       "'/Users/ziv/GDrive/papers/applied-ML/color-sai.pdf'"
      ]
     },
     "execution_count": 6,
     "metadata": {},
     "output_type": "execute_result"
    }
   ],
   "source": [
    "papers[0]"
   ]
  },
  {
   "cell_type": "code",
   "execution_count": 7,
   "metadata": {
    "collapsed": true
   },
   "outputs": [],
   "source": [
    "tree = {\"name\" : \"papers\", \"children\" : []}"
   ]
  },
  {
   "cell_type": "code",
   "execution_count": 13,
   "metadata": {
    "collapsed": false
   },
   "outputs": [],
   "source": [
    "route = papers[0].split('/')[5:]"
   ]
  },
  {
   "cell_type": "code",
   "execution_count": 14,
   "metadata": {
    "collapsed": false
   },
   "outputs": [
    {
     "data": {
      "text/plain": [
       "['applied-ML', 'color-sai.pdf']"
      ]
     },
     "execution_count": 14,
     "metadata": {},
     "output_type": "execute_result"
    }
   ],
   "source": [
    "route"
   ]
  },
  {
   "cell_type": "code",
   "execution_count": 17,
   "metadata": {
    "collapsed": false
   },
   "outputs": [
    {
     "name": "stdout",
     "output_type": "stream",
     "text": [
      "{\"type\": \"directory\", \"name\": \"papers\", \"children\": [{\"type\": \"file\", \"name\": \".DS_Store\"}, {\"type\": \"directory\", \"name\": \"app\", \"children\": [{\"type\": \"file\", \"name\": \".DS_Store\"}, {\"type\": \"directory\", \"name\": \".ipynb_checkpoints\", \"children\": [{\"type\": \"file\", \"name\": \"dir2tree-checkpoint.ipynb\"}]}, {\"type\": \"file\", \"name\": \"app.py\"}, {\"type\": \"file\", \"name\": \"dir2tree.ipynb\"}, {\"type\": \"file\", \"name\": \"dir2tree.py\"}, {\"type\": \"file\", \"name\": \"flare.json\"}, {\"type\": \"directory\", \"name\": \"static\", \"children\": [{\"type\": \"file\", \"name\": \"style.css\"}]}, {\"type\": \"directory\", \"name\": \"templates\", \"children\": [{\"type\": \"file\", \"name\": \"index.html\"}]}, {\"type\": \"file\", \"name\": \"Untitled.py\"}, {\"type\": \"file\", \"name\": \"Untitled.txt\"}]}, {\"type\": \"directory\", \"name\": \"applied-ML\", \"children\": [{\"type\": \"file\", \"name\": \".DS_Store\"}, {\"type\": \"file\", \"name\": \"color-sai.pdf\"}, {\"type\": \"file\", \"name\": \"color.pdf\"}, {\"type\": \"file\", \"name\": \"interpret.pdf\"}, {\"type\": \"file\", \"name\": \"machines-that-learn-and-think.pdf\"}]}, {\"type\": \"directory\", \"name\": \"css\", \"children\": [{\"type\": \"file\", \"name\": \"confidence.pdf\"}, {\"type\": \"file\", \"name\": \"Life in the network- the coming age of computational social science.pdf\"}, {\"type\": \"file\", \"name\": \"ma2017airbnb.pdf\"}]}, {\"type\": \"directory\", \"name\": \"machine learning\", \"children\": [{\"type\": \"file\", \"name\": \".DS_Store\"}, {\"type\": \"file\", \"name\": \"2015_Mnih_et_al.pdf\"}, {\"type\": \"file\", \"name\": \"4824-imagenet-classification-with-deep-convolutional-neural-networks.pdf\"}, {\"type\": \"file\", \"name\": \"approximation-theory-survey.pdf\"}, {\"type\": \"file\", \"name\": \"Ghahramani-2015-Nature.pdf\"}, {\"type\": \"file\", \"name\": \"LSTM.pdf\"}, {\"type\": \"file\", \"name\": \"Perceptiontron_Rosenblatt1958.pdf\"}, {\"type\": \"file\", \"name\": \"Rosenblatt1958.pdf\"}, {\"type\": \"file\", \"name\": \"When Is Deep Better Than Shallow.pdf\"}]}, {\"type\": \"directory\", \"name\": \"media\", \"children\": [{\"type\": \"file\", \"name\": \"Manovich-LangNewMedia-excerpt.pdf\"}, {\"type\": \"file\", \"name\": \"MFJ60-complete.pdf\"}, {\"type\": \"file\", \"name\": \"STRUCTURE-.pdf\"}]}, {\"type\": \"directory\", \"name\": \"meta-science\", \"children\": [{\"type\": \"file\", \"name\": \"clausette-science.pdf\"}]}, {\"type\": \"directory\", \"name\": \"ml+ss\", \"children\": [{\"type\": \"file\", \"name\": \".DS_Store\"}, {\"type\": \"file\", \"name\": \"Deep Learning for Predicting Human Strategic Behavior.pdf\"}, {\"type\": \"file\", \"name\": \"multi-agent-rl-in-ssd.pdf\"}, {\"type\": \"file\", \"name\": \"SSRN-id2548564-3.pdf\"}]}, {\"type\": \"directory\", \"name\": \"multiagent-ai\", \"children\": [{\"type\": \"file\", \"name\": \".DS_Store\"}, {\"type\": \"directory\", \"name\": \"auto-vehicles\", \"children\": [{\"type\": \"file\", \"name\": \"Routledge15-Au.pdf\"}]}, {\"type\": \"file\", \"name\": \"stone2000multiagent.bib\"}, {\"type\": \"file\", \"name\": \"stone2000multiagent.pdf\"}]}, {\"type\": \"directory\", \"name\": \"networks\", \"children\": [{\"type\": \"file\", \"name\": \"4 degrees.pdf\"}, {\"type\": \"file\", \"name\": \"7-AuthoritativeSourcesinaHyperlinkedEnvironment.pdf\"}, {\"type\": \"file\", \"name\": \"[optional] The Role of Social Networks in Information Diffusion.pdf\"}, {\"type\": \"file\", \"name\": \"aral-contagious-excerise.pdf\"}, {\"type\": \"file\", \"name\": \"fb.pdf\"}, {\"type\": \"file\", \"name\": \"msr-tr-2010-137.pdf\"}, {\"type\": \"file\", \"name\": \"npcommunities.pdf\"}, {\"type\": \"file\", \"name\": \"poggio1990rbf2.pdf\"}, {\"type\": \"file\", \"name\": \"semantic-networks.pdf\"}, {\"type\": \"file\", \"name\": \"sinan-Distinguishing influence-based contagion from homophily-driven diffusion in dynamic networks.pdf\"}, {\"type\": \"file\", \"name\": \"SSRN-id2617663.pdf\"}, {\"type\": \"file\", \"name\": \"Structural diversity in social contagion.pdf\"}]}, {\"type\": \"directory\", \"name\": \"nlp\", \"children\": [{\"type\": \"file\", \"name\": \"Blei2012.pdf\"}]}, {\"type\": \"directory\", \"name\": \"philosophy\", \"children\": [{\"type\": \"file\", \"name\": \"vinodessay_published.pdf\"}]}, {\"type\": \"directory\", \"name\": \"psych\", \"children\": [{\"type\": \"file\", \"name\": \".DS_Store\"}, {\"type\": \"file\", \"name\": \"2012 Rand Greene Nowak - Nature.pdf\"}, {\"type\": \"file\", \"name\": \"an-architecture-for-encoding-sentence-meaning.pdf\"}, {\"type\": \"file\", \"name\": \"evolution-of-trust-coop-macy.pdf\"}, {\"type\": \"file\", \"name\": \"journal.pone.0155656.PDF\"}, {\"type\": \"file\", \"name\": \"PNAS-2012-Ugander-5962-6.pdf\"}, {\"type\": \"file\", \"name\": \"visual-clutter.pdf\"}]}, {\"type\": \"directory\", \"name\": \"scalable\", \"children\": [{\"type\": \"file\", \"name\": \"citimation.pdf\"}, {\"type\": \"file\", \"name\": \"cooperating-with-machines.pdf\"}, {\"type\": \"file\", \"name\": \"IcewsReciprocity.pdf\"}, {\"type\": \"file\", \"name\": \"millions-of-emoji-occurrences.pdf\"}, {\"type\": \"file\", \"name\": \"rahwanUAV.pdf\"}, {\"type\": \"file\", \"name\": \"skillscape3.pdf\"}]}, {\"type\": \"directory\", \"name\": \"stats\", \"children\": [{\"type\": \"file\", \"name\": \"[1] Bias and High-Dimensional Adjustmet in Observational Studies of Social Contagion.pdf\"}, {\"type\": \"file\", \"name\": \"[2] Why Propensity Scores Should Not Be Used for Matching.pdf\"}]}]}\n"
     ]
    }
   ],
   "source": [
    "import os\n",
    "import json\n",
    "\n",
    "def path_to_dict(path):\n",
    "    name = os.path.basename(path)\n",
    "    if name[0] != '.' or name != 'app':\n",
    "        d = {'name': name}\n",
    "        if os.path.isdir(path):\n",
    "            d['type'] = \"directory\"\n",
    "            d['children'] = [path_to_dict(os.path.join(path,x)) for x in os.listdir(path)]\n",
    "        else:\n",
    "            d['type'] = \"file\"\n",
    "            d['size'] = 3812\n",
    "        return d\n",
    "\n",
    "print json.dumps(path_to_dict('/Users/ziv/GDrive/papers'))"
   ]
  },
  {
   "cell_type": "code",
   "execution_count": null,
   "metadata": {
    "collapsed": true
   },
   "outputs": [],
   "source": []
  }
 ],
 "metadata": {
  "kernelspec": {
   "display_name": "Python 2",
   "language": "python",
   "name": "python2"
  },
  "language_info": {
   "codemirror_mode": {
    "name": "ipython",
    "version": 2
   },
   "file_extension": ".py",
   "mimetype": "text/x-python",
   "name": "python",
   "nbconvert_exporter": "python",
   "pygments_lexer": "ipython2",
   "version": "2.7.10"
  }
 },
 "nbformat": 4,
 "nbformat_minor": 0
}
